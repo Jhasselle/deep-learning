{
 "cells": [
  {
   "cell_type": "markdown",
   "metadata": {},
   "source": [
    "# Skip-gram word2vec\n",
    "\n",
    "In this notebook, I'll lead you through using TensorFlow to implement the word2vec algorithm using the skip-gram architecture. By implementing this, you'll learn about embedding words for use in natural language processing. This will come in handy when dealing with things like machine translation.\n",
    "\n",
    "## Readings\n",
    "\n",
    "Here are the resources I used to build this notebook. I suggest reading these either beforehand or while you're working on this material.\n",
    "\n",
    "* A really good [conceptual overview](http://mccormickml.com/2016/04/19/word2vec-tutorial-the-skip-gram-model/) of word2vec from Chris McCormick \n",
    "* [First word2vec paper](https://arxiv.org/pdf/1301.3781.pdf) from Mikolov et al.\n",
    "* [NIPS paper](http://papers.nips.cc/paper/5021-distributed-representations-of-words-and-phrases-and-their-compositionality.pdf) with improvements for word2vec also from Mikolov et al.\n",
    "* An [implementation of word2vec](http://www.thushv.com/natural_language_processing/word2vec-part-1-nlp-with-deep-learning-with-tensorflow-skip-gram/) from Thushan Ganegedara\n",
    "* TensorFlow [word2vec tutorial](https://www.tensorflow.org/tutorials/word2vec)\n",
    "\n",
    "## Word embeddings\n",
    "\n",
    "When you're dealing with words in text, you end up with tens of thousands of classes to predict, one for each word. Trying to one-hot encode these words is massively inefficient, you'll have one element set to 1 and the other 50,000 set to 0. The matrix multiplication going into the first hidden layer will have almost all of the resulting values be zero. This a huge waste of computation. \n",
    "\n",
    "![one-hot encodings](assets/one_hot_encoding.png)\n",
    "\n",
    "To solve this problem and greatly increase the efficiency of our networks, we use what are called embeddings. Embeddings are just a fully connected layer like you've seen before. We call this layer the embedding layer and the weights are embedding weights. We skip the multiplication into the embedding layer by instead directly grabbing the hidden layer values from the weight matrix. We can do this because the multiplication of a one-hot encoded vector with a matrix returns the row of the matrix corresponding the index of the \"on\" input unit.\n",
    "\n",
    "![lookup](assets/lookup_matrix.png)\n",
    "\n",
    "Instead of doing the matrix multiplication, we use the weight matrix as a lookup table. We encode the words as integers, for example \"heart\" is encoded as 958, \"mind\" as 18094. Then to get hidden layer values for \"heart\", you just take the 958th row of the embedding matrix. This process is called an **embedding lookup** and the number of hidden units is the **embedding dimension**.\n",
    "\n",
    "<img src='assets/tokenize_lookup.png' width=500>\n",
    " \n",
    "There is nothing magical going on here. The embedding lookup table is just a weight matrix. The embedding layer is just a hidden layer. The lookup is just a shortcut for the matrix multiplication. The lookup table is trained just like any weight matrix as well.\n",
    "\n",
    "Embeddings aren't only used for words of course. You can use them for any model where you have a massive number of classes. A particular type of model called **Word2Vec** uses the embedding layer to find vector representations of words that contain semantic meaning.\n",
    "\n"
   ]
  },
  {
   "cell_type": "markdown",
   "metadata": {},
   "source": [
    "## Word2Vec\n",
    "\n",
    "The word2vec algorithm finds much more efficient representations by finding vectors that represent the words. These vectors also contain semantic information about the words. Words that show up in similar contexts, such as \"black\", \"white\", and \"red\" will have vectors near each other. There are two architectures for implementing word2vec, CBOW (Continuous Bag-Of-Words) and Skip-gram.\n",
    "\n",
    "<img src=\"assets/word2vec_architectures.png\" width=\"500\">\n",
    "\n",
    "In this implementation, we'll be using the skip-gram architecture because it performs better than CBOW. Here, we pass in a word and try to predict the words surrounding it in the text. In this way, we can train the network to learn representations for words that show up in similar contexts.\n",
    "\n",
    "First up, importing packages."
   ]
  },
  {
   "cell_type": "code",
   "execution_count": 1,
   "metadata": {},
   "outputs": [],
   "source": [
    "import time\n",
    "\n",
    "import numpy as np\n",
    "import tensorflow as tf\n",
    "\n",
    "import utils"
   ]
  },
  {
   "cell_type": "markdown",
   "metadata": {},
   "source": [
    "Load the [text8 dataset](http://mattmahoney.net/dc/textdata.html), a file of cleaned up Wikipedia articles from Matt Mahoney. The next cell will download the data set to the `data` folder. Then you can extract it and delete the archive file to save storage space."
   ]
  },
  {
   "cell_type": "code",
   "execution_count": 2,
   "metadata": {},
   "outputs": [
    {
     "name": "stderr",
     "output_type": "stream",
     "text": [
      "Text8 Dataset: 31.4MB [01:55, 270KB/s]                             \n"
     ]
    }
   ],
   "source": [
    "from urllib.request import urlretrieve\n",
    "from os.path import isfile, isdir\n",
    "from tqdm import tqdm\n",
    "import zipfile\n",
    "\n",
    "dataset_folder_path = 'data'\n",
    "dataset_filename = 'text8.zip'\n",
    "dataset_name = 'Text8 Dataset'\n",
    "\n",
    "class DLProgress(tqdm):\n",
    "    last_block = 0\n",
    "\n",
    "    def hook(self, block_num=1, block_size=1, total_size=None):\n",
    "        self.total = total_size\n",
    "        self.update((block_num - self.last_block) * block_size)\n",
    "        self.last_block = block_num\n",
    "\n",
    "if not isfile(dataset_filename):\n",
    "    with DLProgress(unit='B', unit_scale=True, miniters=1, desc=dataset_name) as pbar:\n",
    "        urlretrieve(\n",
    "            'http://mattmahoney.net/dc/text8.zip',\n",
    "            dataset_filename,\n",
    "            pbar.hook)\n",
    "\n",
    "if not isdir(dataset_folder_path):\n",
    "    with zipfile.ZipFile(dataset_filename) as zip_ref:\n",
    "        zip_ref.extractall(dataset_folder_path)\n",
    "        \n",
    "with open('data/text8') as f:\n",
    "    text = f.read()"
   ]
  },
  {
   "cell_type": "markdown",
   "metadata": {},
   "source": [
    "## Preprocessing\n",
    "\n",
    "Here I'm fixing up the text to make training easier. This comes from the `utils` module I wrote. The `preprocess` function coverts any punctuation into tokens, so a period is changed to ` <PERIOD> `. In this data set, there aren't any periods, but it will help in other NLP problems. I'm also removing all words that show up five or fewer times in the dataset. This will greatly reduce issues due to noise in the data and improve the quality of the vector representations. If you want to write your own functions for this stuff, go for it."
   ]
  },
  {
   "cell_type": "code",
   "execution_count": 3,
   "metadata": {},
   "outputs": [
    {
     "name": "stdout",
     "output_type": "stream",
     "text": [
      "['anarchism', 'originated', 'as', 'a', 'term', 'of', 'abuse', 'first', 'used', 'against', 'early', 'working', 'class', 'radicals', 'including', 'the', 'diggers', 'of', 'the', 'english', 'revolution', 'and', 'the', 'sans', 'culottes', 'of', 'the', 'french', 'revolution', 'whilst']\n"
     ]
    }
   ],
   "source": [
    "words = utils.preprocess(text)\n",
    "print(words[:30])"
   ]
  },
  {
   "cell_type": "code",
   "execution_count": 4,
   "metadata": {},
   "outputs": [
    {
     "name": "stdout",
     "output_type": "stream",
     "text": [
      "Total words: 16680599\n",
      "Unique words: 63641\n"
     ]
    }
   ],
   "source": [
    "print(\"Total words: {}\".format(len(words)))\n",
    "print(\"Unique words: {}\".format(len(set(words))))"
   ]
  },
  {
   "cell_type": "markdown",
   "metadata": {},
   "source": [
    "And here I'm creating dictionaries to convert words to integers and backwards, integers to words. The integers are assigned in descending frequency order, so the most frequent word (\"the\") is given the integer 0 and the next most frequent is 1 and so on. The words are converted to integers and stored in the list `int_words`."
   ]
  },
  {
   "cell_type": "code",
   "execution_count": 5,
   "metadata": {
    "collapsed": true
   },
   "outputs": [],
   "source": [
    "vocab_to_int, int_to_vocab = utils.create_lookup_tables(words)\n",
    "int_words = [vocab_to_int[word] for word in words]"
   ]
  },
  {
   "cell_type": "code",
   "execution_count": 12,
   "metadata": {},
   "outputs": [
    {
     "data": {
      "text/plain": [
       "303"
      ]
     },
     "execution_count": 12,
     "metadata": {},
     "output_type": "execute_result"
    }
   ],
   "source": [
    "int_words.count(5242)"
   ]
  },
  {
   "cell_type": "markdown",
   "metadata": {},
   "source": [
    "## Subsampling\n",
    "\n",
    "Words that show up often such as \"the\", \"of\", and \"for\" don't provide much context to the nearby words. If we discard some of them, we can remove some of the noise from our data and in return get faster training and better representations. This process is called subsampling by Mikolov. For each word $w_i$ in the training set, we'll discard it with probability given by \n",
    "\n",
    "$$ P(w_i) = 1 - \\sqrt{\\frac{t}{f(w_i)}} $$\n",
    "\n",
    "where $t$ is a threshold parameter and $f(w_i)$ is the frequency of word $w_i$ in the total dataset.\n",
    "\n",
    "I'm going to leave this up to you as an exercise. This is more of a programming challenge, than about deep learning specifically. But, being able to prepare your data for your network is an important skill to have. Check out my solution to see how I did it.\n",
    "\n",
    "> **Exercise:** Implement subsampling for the words in `int_words`. That is, go through `int_words` and discard each word given the probablility $P(w_i)$ shown above. Note that $P(w_i)$ is the probability that a word is discarded. Assign the subsampled data to `train_words`."
   ]
  },
  {
   "cell_type": "code",
   "execution_count": 26,
   "metadata": {},
   "outputs": [],
   "source": [
    "# Your code here\n",
    "\n",
    "# These are my original codes. This is very slow...\n",
    "# import random\n",
    "\n",
    "# def subsampling(integer_list, t):\n",
    "#     result = []\n",
    "#     word_prob = {}\n",
    "#     list_len = len(integer_list)\n",
    "#     for word_num in integer_list:\n",
    "#         if not word_num in word_prob:\n",
    "#             word_prob[word_num] = 1 - np.sqrt(t/integer_list.count(word_num)/list_len)\n",
    "#         if word_prob[word_num] < random.uniform(0, 1):\n",
    "#             result.append(word_num)\n",
    "        \n",
    "#     return result\n",
    "        \n",
    "# train_words = subsampling(int_words, 100) # The final subsampled word list\n",
    "\n",
    "from collections import Counter\n",
    "import random\n",
    "\n",
    "threshold = 1e-5\n",
    "word_counts = Counter(int_words)\n",
    "total_count = len(int_words)\n",
    "freqs = {word: count/total_count for word, count in word_counts.items()}\n",
    "p_drop = {word: np.sqrt(threshold/freqs[word]) for word in word_counts}\n",
    "train_words = [word for word in int_words if random.random() > p_drop[word]]"
   ]
  },
  {
   "cell_type": "code",
   "execution_count": 27,
   "metadata": {},
   "outputs": [
    {
     "data": {
      "text/plain": [
       "dict_items"
      ]
     },
     "execution_count": 27,
     "metadata": {},
     "output_type": "execute_result"
    }
   ],
   "source": [
    "word_counts.items().__class__"
   ]
  },
  {
   "cell_type": "markdown",
   "metadata": {},
   "source": [
    "## Making batches"
   ]
  },
  {
   "cell_type": "markdown",
   "metadata": {},
   "source": [
    "Now that our data is in good shape, we need to get it into the proper form to pass it into our network. With the skip-gram architecture, for each word in the text, we want to grab all the words in a window around that word, with size $C$. \n",
    "\n",
    "From [Mikolov et al.](https://arxiv.org/pdf/1301.3781.pdf): \n",
    "\n",
    "\"Since the more distant words are usually less related to the current word than those close to it, we give less weight to the distant words by sampling less from those words in our training examples... If we choose $C = 5$, for each training word we will select randomly a number $R$ in range $< 1; C >$, and then use $R$ words from history and $R$ words from the future of the current word as correct labels.\"\n",
    "\n",
    "> **Exercise:** Implement a function `get_target` that receives a list of words, an index, and a window size, then returns a list of words in the window around the index. Make sure to use the algorithm described above, where you choose a random number of words from the window."
   ]
  },
  {
   "cell_type": "code",
   "execution_count": 28,
   "metadata": {
    "collapsed": true
   },
   "outputs": [],
   "source": [
    "def get_target(words, idx, window_size=5):\n",
    "    ''' Get a list of words in a window around an index. '''\n",
    "    \n",
    "    # Your code here\n",
    "    R = np.random.randint(1, window_size+1)\n",
    "    start = idx - R if (idx - R) > 0 else 0\n",
    "    end = idx + R\n",
    "    target_words = set(words[start:idx] + words[idx + 1:end + 1])\n",
    "    \n",
    "    return list(target_words)"
   ]
  },
  {
   "cell_type": "markdown",
   "metadata": {},
   "source": [
    "Here's a function that returns batches for our network. The idea is that it grabs `batch_size` words from a words list. Then for each of those words, it gets the target words in the window. I haven't found a way to pass in a random number of target words and get it to work with the architecture, so I make one row per input-target pair. This is a generator function by the way, helps save memory."
   ]
  },
  {
   "cell_type": "code",
   "execution_count": 29,
   "metadata": {
    "collapsed": true
   },
   "outputs": [],
   "source": [
    "def get_batches(words, batch_size, window_size=5):\n",
    "    ''' Create a generator of word batches as a tuple (inputs, targets) '''\n",
    "    \n",
    "    n_batches = len(words)//batch_size\n",
    "    \n",
    "    # only full batches\n",
    "    words = words[:n_batches*batch_size]\n",
    "    \n",
    "    for idx in range(0, len(words), batch_size):\n",
    "        x, y = [], []\n",
    "        batch = words[idx:idx+batch_size]\n",
    "        for ii in range(len(batch)):\n",
    "            batch_x = batch[ii]\n",
    "            batch_y = get_target(batch, ii, window_size)\n",
    "            y.extend(batch_y)\n",
    "            x.extend([batch_x]*len(batch_y))\n",
    "        yield x, y\n",
    "    "
   ]
  },
  {
   "cell_type": "markdown",
   "metadata": {},
   "source": [
    "## Building the graph\n",
    "\n",
    "From [Chris McCormick's blog](http://mccormickml.com/2016/04/19/word2vec-tutorial-the-skip-gram-model/), we can see the general structure of our network.\n",
    "![embedding_network](./assets/skip_gram_net_arch.png)\n",
    "\n",
    "The input words are passed in as integers. This will go into a hidden layer of linear units, then into a softmax layer. We'll use the softmax layer to make a prediction like normal.\n",
    "\n",
    "The idea here is to train the hidden layer weight matrix to find efficient representations for our words. We can discard the softmax layer becuase we don't really care about making predictions with this network. We just want the embedding matrix so we can use it in other networks we build from the dataset.\n",
    "\n",
    "I'm going to have you build the graph in stages now. First off, creating the `inputs` and `labels` placeholders like normal.\n",
    "\n",
    "> **Exercise:** Assign `inputs` and `labels` using `tf.placeholder`. We're going to be passing in integers, so set the data types to `tf.int32`. The batches we're passing in will have varying sizes, so set the batch sizes to [`None`]. To make things work later, you'll need to set the second dimension of `labels` to `None` or `1`."
   ]
  },
  {
   "cell_type": "code",
   "execution_count": 30,
   "metadata": {
    "collapsed": true
   },
   "outputs": [],
   "source": [
    "train_graph = tf.Graph()\n",
    "with train_graph.as_default():\n",
    "    inputs = tf.placeholder(tf.int32, [None], name='inputs')\n",
    "    labels = tf.placeholder(tf.int32, [None, None], name='labels')"
   ]
  },
  {
   "cell_type": "markdown",
   "metadata": {},
   "source": [
    "## Embedding\n",
    "\n"
   ]
  },
  {
   "cell_type": "markdown",
   "metadata": {
    "collapsed": true
   },
   "source": [
    "The embedding matrix has a size of the number of words by the number of units in the hidden layer. So, if you have 10,000 words and 300 hidden units, the matrix will have size $10,000 \\times 300$. Remember that we're using tokenized data for our inputs, usually as integers, where the number of tokens is the number of words in our vocabulary.\n",
    "\n",
    "\n",
    "> **Exercise:** Tensorflow provides a convenient function [`tf.nn.embedding_lookup`](https://www.tensorflow.org/api_docs/python/tf/nn/embedding_lookup) that does this lookup for us. You pass in the embedding matrix and a tensor of integers, then it returns rows in the matrix corresponding to those integers. Below, set the number of embedding features you'll use (200 is a good start), create the embedding matrix variable, and use `tf.nn.embedding_lookup` to get the embedding tensors. For the embedding matrix, I suggest you initialize it with a uniform random numbers between -1 and 1 using [tf.random_uniform](https://www.tensorflow.org/api_docs/python/tf/random_uniform)."
   ]
  },
  {
   "cell_type": "code",
   "execution_count": 31,
   "metadata": {
    "collapsed": true
   },
   "outputs": [],
   "source": [
    "n_vocab = len(int_to_vocab)\n",
    "n_embedding = 200 # Number of embedding features \n",
    "with train_graph.as_default():\n",
    "    embedding = tf.Variable(tf.random_uniform((n_vocab, n_embedding), -1, 1)) # create embedding weight matrix here\n",
    "    embed = tf.nn.embedding_lookup(embedding, inputs) # use tf.nn.embedding_lookup to get the hidden layer output"
   ]
  },
  {
   "cell_type": "markdown",
   "metadata": {},
   "source": [
    "## Negative sampling\n",
    "\n"
   ]
  },
  {
   "cell_type": "markdown",
   "metadata": {},
   "source": [
    "For every example we give the network, we train it using the output from the softmax layer. That means for each input, we're making very small changes to millions of weights even though we only have one true example. This makes training the network very inefficient. We can approximate the loss from the softmax layer by only updating a small subset of all the weights at once. We'll update the weights for the correct label, but only a small number of incorrect labels. This is called [\"negative sampling\"](http://papers.nips.cc/paper/5021-distributed-representations-of-words-and-phrases-and-their-compositionality.pdf). Tensorflow has a convenient function to do this, [`tf.nn.sampled_softmax_loss`](https://www.tensorflow.org/api_docs/python/tf/nn/sampled_softmax_loss).\n",
    "\n",
    "> **Exercise:** Below, create weights and biases for the softmax layer. Then, use [`tf.nn.sampled_softmax_loss`](https://www.tensorflow.org/api_docs/python/tf/nn/sampled_softmax_loss) to calculate the loss. Be sure to read the documentation to figure out how it works."
   ]
  },
  {
   "cell_type": "code",
   "execution_count": 33,
   "metadata": {},
   "outputs": [],
   "source": [
    "# Number of negative labels to sample\n",
    "n_sampled = 100\n",
    "with train_graph.as_default():\n",
    "    softmax_w = tf.Variable(tf.truncated_normal((n_vocab, n_embedding), stddev=0.1)) # create softmax weight matrix here\n",
    "    \n",
    "    # ??? Why is this n_vocab? Should it be n_embedding?\n",
    "    softmax_b = tf.Variable(tf.zeros(n_vocab)) # create softmax biases here\n",
    "    \n",
    "    # Calculate the loss using negative sampling\n",
    "    loss = tf.nn.sampled_softmax_loss(softmax_w, softmax_b, labels, embed, n_sampled, n_vocab)\n",
    "    \n",
    "    cost = tf.reduce_mean(loss)\n",
    "    optimizer = tf.train.AdamOptimizer().minimize(cost)"
   ]
  },
  {
   "cell_type": "code",
   "execution_count": 36,
   "metadata": {},
   "outputs": [
    {
     "data": {
      "text/plain": [
       "<tensorflow.python.ops.variables.Variable at 0x13831d198>"
      ]
     },
     "execution_count": 36,
     "metadata": {},
     "output_type": "execute_result"
    }
   ],
   "source": [
    "softmax_w"
   ]
  },
  {
   "cell_type": "markdown",
   "metadata": {},
   "source": [
    "## Validation\n",
    "\n",
    "This code is from Thushan Ganegedara's implementation. Here we're going to choose a few common words and few uncommon words. Then, we'll print out the closest words to them. It's a nice way to check that our embedding table is grouping together words with similar semantic meanings."
   ]
  },
  {
   "cell_type": "code",
   "execution_count": 37,
   "metadata": {
    "collapsed": true
   },
   "outputs": [],
   "source": [
    "with train_graph.as_default():\n",
    "    ## From Thushan Ganegedara's implementation\n",
    "    valid_size = 16 # Random set of words to evaluate similarity on.\n",
    "    valid_window = 100\n",
    "    # pick 8 samples from (0,100) and (1000,1100) each ranges. lower id implies more frequent \n",
    "    valid_examples = np.array(random.sample(range(valid_window), valid_size//2))\n",
    "    valid_examples = np.append(valid_examples, \n",
    "                               random.sample(range(1000,1000+valid_window), valid_size//2))\n",
    "\n",
    "    valid_dataset = tf.constant(valid_examples, dtype=tf.int32)\n",
    "    \n",
    "    # We use the cosine distance:\n",
    "    norm = tf.sqrt(tf.reduce_sum(tf.square(embedding), 1, keep_dims=True))\n",
    "    normalized_embedding = embedding / norm\n",
    "    valid_embedding = tf.nn.embedding_lookup(normalized_embedding, valid_dataset)\n",
    "    similarity = tf.matmul(valid_embedding, tf.transpose(normalized_embedding))"
   ]
  },
  {
   "cell_type": "code",
   "execution_count": 38,
   "metadata": {
    "collapsed": true
   },
   "outputs": [],
   "source": [
    "# If the checkpoints directory doesn't exist:\n",
    "!mkdir checkpoints"
   ]
  },
  {
   "cell_type": "markdown",
   "metadata": {},
   "source": [
    "## Training\n",
    "\n",
    "Below is the code to train the network. Every 100 batches it reports the training loss. Every 1000 batches, it'll print out the validation words."
   ]
  },
  {
   "cell_type": "code",
   "execution_count": 42,
   "metadata": {},
   "outputs": [
    {
     "name": "stdout",
     "output_type": "stream",
     "text": [
      "Epoch 1/10 Iteration: 100 Avg. Training loss: 8.8018 0.3135 sec/batch\n",
      "Epoch 1/10 Iteration: 200 Avg. Training loss: 7.5437 0.2970 sec/batch\n",
      "Epoch 1/10 Iteration: 300 Avg. Training loss: 6.2748 0.2894 sec/batch\n",
      "Epoch 1/10 Iteration: 400 Avg. Training loss: 5.4932 0.2861 sec/batch\n",
      "Epoch 1/10 Iteration: 500 Avg. Training loss: 5.1759 0.3215 sec/batch\n",
      "Epoch 1/10 Iteration: 600 Avg. Training loss: 4.8713 0.2994 sec/batch\n",
      "Epoch 1/10 Iteration: 700 Avg. Training loss: 4.6491 0.2913 sec/batch\n",
      "Epoch 1/10 Iteration: 800 Avg. Training loss: 4.4700 0.2855 sec/batch\n",
      "Epoch 1/10 Iteration: 900 Avg. Training loss: 4.5891 0.2774 sec/batch\n",
      "Epoch 1/10 Iteration: 1000 Avg. Training loss: 4.5044 0.2830 sec/batch\n",
      "Nearest to are: millennium, f, no, enter, oxford, beginning, case, biggio,\n",
      "Nearest to three: porto, primarily, under, carranza, owes, page, wide, aphex,\n",
      "Nearest to to: myth, day, important, them, written, critics, arranged, variation,\n",
      "Nearest to or: country, home, today, follow, wealth, reference, new, measures,\n",
      "Nearest to which: follow, medium, greatest, meaning, a, perhaps, terms, person,\n",
      "Nearest to nine: km, davis, english, france, five, november, point, variation,\n",
      "Nearest to d: database, contained, one, ophthalmologist, prisoner, own, visible, took,\n",
      "Nearest to called: london, messenger, passage, plums, contributions, older, field, technique,\n",
      "Nearest to channel: hebrew, weapons, reginald, infinite, find, you, changed, followed,\n",
      "Nearest to freedom: entry, knowledge, wood, modern, beetles, pass, these, caused,\n",
      "Nearest to mathematics: video, experienced, declared, men, those, friedman, requirements, warfare,\n",
      "Nearest to ocean: topic, phase, port, bomber, remain, important, languages, fire,\n",
      "Nearest to numerous: could, mathematician, average, chechens, hence, advantage, depress, mental,\n",
      "Nearest to bbc: precedes, poor, morphine, jean, party, cunning, generally, stylus,\n",
      "Nearest to frac: ced, la, letterbox, tee, singapore, argouml, around, sentencing,\n",
      "Nearest to professional: fca, griseus, mickey, safeties, je, mun, image, implied,\n",
      "Epoch 1/10 Iteration: 1100 Avg. Training loss: 4.4493 0.2910 sec/batch\n",
      "Epoch 1/10 Iteration: 1200 Avg. Training loss: 4.3893 0.2771 sec/batch\n",
      "Epoch 1/10 Iteration: 1300 Avg. Training loss: 4.3524 0.2747 sec/batch\n",
      "Epoch 1/10 Iteration: 1400 Avg. Training loss: 4.3322 0.2824 sec/batch\n",
      "Epoch 1/10 Iteration: 1500 Avg. Training loss: 4.3633 0.2734 sec/batch\n",
      "Epoch 1/10 Iteration: 1600 Avg. Training loss: 4.3340 0.2878 sec/batch\n",
      "Epoch 1/10 Iteration: 1700 Avg. Training loss: 4.3309 0.2912 sec/batch\n",
      "Epoch 1/10 Iteration: 1800 Avg. Training loss: 4.2504 0.2720 sec/batch\n",
      "Epoch 1/10 Iteration: 1900 Avg. Training loss: 4.3229 0.2826 sec/batch\n",
      "Epoch 1/10 Iteration: 2000 Avg. Training loss: 4.2840 0.2782 sec/batch\n",
      "Nearest to are: millennium, f, no, enter, oxford, capacity, such, case,\n",
      "Nearest to three: porto, primarily, magic, availability, page, stanford, facto, under,\n",
      "Nearest to to: myth, variation, important, them, day, arranged, release, written,\n",
      "Nearest to or: home, country, today, follow, wealth, adapted, reference, measures,\n",
      "Nearest to which: follow, medium, meaning, greatest, impossible, vacuum, perhaps, indicate,\n",
      "Nearest to nine: km, davis, english, november, france, variation, ruled, five,\n",
      "Nearest to d: database, contained, ophthalmologist, one, headed, hockey, visible, buffalo,\n",
      "Nearest to called: messenger, london, restrictions, passage, turkey, contributions, roots, plums,\n",
      "Nearest to channel: weapons, hebrew, infinite, reginald, assistant, you, compact, find,\n",
      "Nearest to freedom: entry, wood, modern, knowledge, pass, loss, beetles, permitted,\n",
      "Nearest to mathematics: experienced, declared, video, requirements, men, friedman, logo, acute,\n",
      "Nearest to ocean: phase, topic, port, increasing, bomber, consequently, languages, remain,\n",
      "Nearest to numerous: could, chechens, average, protection, advantage, involve, rational, mathematician,\n",
      "Nearest to bbc: poor, precedes, communities, morphine, jean, creature, brown, positive,\n",
      "Nearest to frac: la, singapore, ced, around, letterbox, argouml, tee, classical,\n",
      "Nearest to professional: intense, replaced, profit, fca, image, google, griseus, runs,\n",
      "Epoch 1/10 Iteration: 2100 Avg. Training loss: 4.2838 0.2821 sec/batch\n",
      "Epoch 1/10 Iteration: 2200 Avg. Training loss: 4.2654 0.2771 sec/batch\n",
      "Epoch 1/10 Iteration: 2300 Avg. Training loss: 4.1982 0.3033 sec/batch\n",
      "Epoch 1/10 Iteration: 2400 Avg. Training loss: 4.2208 0.2852 sec/batch\n",
      "Epoch 1/10 Iteration: 2500 Avg. Training loss: 4.2464 0.2866 sec/batch\n",
      "Epoch 1/10 Iteration: 2600 Avg. Training loss: 4.2293 0.2762 sec/batch\n",
      "Epoch 1/10 Iteration: 2700 Avg. Training loss: 4.2211 0.2841 sec/batch\n",
      "Epoch 1/10 Iteration: 2800 Avg. Training loss: 4.2277 0.2774 sec/batch\n",
      "Epoch 1/10 Iteration: 2900 Avg. Training loss: 4.2416 0.2764 sec/batch\n",
      "Epoch 1/10 Iteration: 3000 Avg. Training loss: 4.0896 0.2759 sec/batch\n",
      "Nearest to are: millennium, no, f, enter, capacity, such, oxford, mild,\n",
      "Nearest to three: porto, availability, stanford, magic, facto, primarily, under, carranza,\n",
      "Nearest to to: myth, variation, them, day, arranged, written, release, important,\n",
      "Nearest to or: home, today, country, follow, wealth, adapted, reference, crucial,\n",
      "Nearest to which: follow, medium, meaning, vacuum, greatest, perhaps, globe, wwii,\n",
      "Nearest to nine: km, davis, november, english, january, france, five, protests,\n",
      "Nearest to d: database, contained, headed, prisoner, ophthalmologist, took, hockey, hear,\n",
      "Nearest to called: messenger, restrictions, london, passage, turkey, roots, technique, maker,\n",
      "Nearest to channel: weapons, infinite, hebrew, reginald, assistant, you, compact, gas,\n",
      "Nearest to freedom: entry, wood, modern, knowledge, pass, permitted, beetles, loss,\n",
      "Nearest to mathematics: experienced, friedman, declared, video, hear, requirements, men, acute,\n",
      "Nearest to ocean: bomber, phase, topic, port, increasing, consequently, economics, ruth,\n",
      "Nearest to numerous: could, legs, chechens, average, protection, rational, involve, mathematician,\n",
      "Nearest to bbc: precedes, poor, morphine, dam, communities, jean, brown, creature,\n",
      "Nearest to frac: la, singapore, ced, around, classical, wisdom, argouml, nigeria,\n",
      "Nearest to professional: intense, mickey, google, implied, fca, profit, replaced, image,\n",
      "Epoch 1/10 Iteration: 3100 Avg. Training loss: 4.2482 0.2907 sec/batch\n",
      "Epoch 1/10 Iteration: 3200 Avg. Training loss: 4.1738 0.2746 sec/batch\n",
      "Epoch 1/10 Iteration: 3300 Avg. Training loss: 4.2159 0.2782 sec/batch\n",
      "Epoch 1/10 Iteration: 3400 Avg. Training loss: 4.1871 0.3407 sec/batch\n",
      "Epoch 1/10 Iteration: 3500 Avg. Training loss: 4.1887 0.2970 sec/batch\n",
      "Epoch 1/10 Iteration: 3600 Avg. Training loss: 4.1696 0.3084 sec/batch\n",
      "Epoch 1/10 Iteration: 3700 Avg. Training loss: 4.1802 0.3108 sec/batch\n",
      "Epoch 1/10 Iteration: 3800 Avg. Training loss: 4.2081 0.2794 sec/batch\n",
      "Epoch 1/10 Iteration: 3900 Avg. Training loss: 4.1828 0.2923 sec/batch\n",
      "Epoch 1/10 Iteration: 4000 Avg. Training loss: 4.1843 0.2867 sec/batch\n",
      "Nearest to are: millennium, no, f, such, mild, enter, capacity, case,\n",
      "Nearest to three: porto, availability, stanford, facto, pro, dawn, primarily, carranza,\n",
      "Nearest to to: myth, variation, them, him, arranged, release, written, important,\n",
      "Nearest to or: home, country, today, reference, crucial, follow, adapted, fighters,\n",
      "Nearest to which: medium, meaning, vacuum, follow, flesh, globe, greatest, indicate,\n",
      "Nearest to nine: km, davis, november, january, five, isle, protests, ruled,\n",
      "Nearest to d: database, contained, headed, prisoner, p, ophthalmologist, took, hockey,\n",
      "Nearest to called: messenger, london, maker, restrictions, passage, roots, technique, upon,\n",
      "Nearest to channel: weapons, infinite, hebrew, reginald, assistant, you, occasional, compact,\n",
      "Nearest to freedom: entry, modern, wood, knowledge, permitted, pass, beetles, loss,\n",
      "Nearest to mathematics: experienced, friedman, declared, hear, acute, video, requirements, men,\n",
      "Nearest to ocean: bomber, phase, topic, port, increasing, anthropology, ruth, consequently,\n",
      "Nearest to numerous: legs, could, rational, protection, chechens, average, involve, advantage,\n",
      "Nearest to bbc: precedes, morphine, dam, civilians, poor, realism, communities, jean,\n",
      "Nearest to frac: singapore, la, ced, argouml, classical, sheep, nigeria, around,\n",
      "Nearest to professional: implied, mickey, intense, google, operational, profit, fca, griseus,\n"
     ]
    },
    {
     "name": "stdout",
     "output_type": "stream",
     "text": [
      "Epoch 1/10 Iteration: 4100 Avg. Training loss: 4.1539 0.2923 sec/batch\n",
      "Epoch 1/10 Iteration: 4200 Avg. Training loss: 4.1432 0.2846 sec/batch\n",
      "Epoch 1/10 Iteration: 4300 Avg. Training loss: 4.1772 0.2747 sec/batch\n",
      "Epoch 1/10 Iteration: 4400 Avg. Training loss: 4.1771 0.2837 sec/batch\n",
      "Epoch 1/10 Iteration: 4500 Avg. Training loss: 4.1251 0.2828 sec/batch\n",
      "Epoch 1/10 Iteration: 4600 Avg. Training loss: 4.1300 0.2824 sec/batch\n",
      "Epoch 1/10 Iteration: 4700 Avg. Training loss: 4.0953 0.2750 sec/batch\n",
      "Epoch 1/10 Iteration: 4800 Avg. Training loss: 4.1504 0.3018 sec/batch\n",
      "Epoch 1/10 Iteration: 4900 Avg. Training loss: 4.1064 0.2839 sec/batch\n",
      "Epoch 1/10 Iteration: 5000 Avg. Training loss: 4.1293 0.2990 sec/batch\n",
      "Nearest to are: millennium, f, no, such, mild, enter, capacity, case,\n",
      "Nearest to three: porto, stanford, primarily, facto, availability, pro, page, carranza,\n",
      "Nearest to to: myth, variation, them, him, release, arranged, intersection, written,\n",
      "Nearest to or: home, reference, dante, adapted, follow, wealth, crucial, today,\n",
      "Nearest to which: meaning, medium, follow, vacuum, flesh, perhaps, wwii, globe,\n",
      "Nearest to nine: davis, km, november, protests, five, english, january, composer,\n",
      "Nearest to d: database, contained, headed, hockey, vol, prisoner, ophthalmologist, one,\n",
      "Nearest to called: messenger, maker, london, passage, technique, upon, roots, restrictions,\n",
      "Nearest to channel: infinite, weapons, reginald, hebrew, you, assistant, gas, websites,\n",
      "Nearest to freedom: entry, knowledge, wood, modern, permitted, pass, beetles, shadow,\n",
      "Nearest to mathematics: experienced, friedman, declared, hear, requirements, acute, sites, video,\n",
      "Nearest to ocean: bomber, topic, phase, anthropology, port, ruth, approaches, increasing,\n",
      "Nearest to numerous: legs, could, chechens, protection, rational, involve, average, promoted,\n",
      "Nearest to bbc: precedes, dam, morphine, realism, civilians, jean, julia, english,\n",
      "Nearest to frac: singapore, la, ced, argouml, sheep, fewer, outstanding, classical,\n",
      "Nearest to professional: implied, mickey, google, intense, operational, profit, hugo, fca,\n",
      "Epoch 1/10 Iteration: 5100 Avg. Training loss: 4.1580 0.3243 sec/batch\n",
      "Epoch 1/10 Iteration: 5200 Avg. Training loss: 4.1777 0.2912 sec/batch\n",
      "Epoch 1/10 Iteration: 5300 Avg. Training loss: 4.1344 0.2763 sec/batch\n",
      "Epoch 1/10 Iteration: 5400 Avg. Training loss: 4.1396 0.2804 sec/batch\n",
      "Epoch 1/10 Iteration: 5500 Avg. Training loss: 4.1247 0.2740 sec/batch\n",
      "Epoch 1/10 Iteration: 5600 Avg. Training loss: 4.1304 0.2799 sec/batch\n",
      "Epoch 1/10 Iteration: 5700 Avg. Training loss: 4.1271 0.2982 sec/batch\n",
      "Epoch 1/10 Iteration: 5800 Avg. Training loss: 4.1376 0.2804 sec/batch\n",
      "Epoch 1/10 Iteration: 5900 Avg. Training loss: 4.1183 0.3013 sec/batch\n",
      "Epoch 1/10 Iteration: 6000 Avg. Training loss: 4.1375 0.3093 sec/batch\n",
      "Nearest to are: millennium, f, mild, no, capacity, such, birds, enter,\n",
      "Nearest to three: porto, availability, facto, primarily, stanford, magic, page, carranza,\n",
      "Nearest to to: myth, variation, them, arranged, him, intersection, release, through,\n",
      "Nearest to or: reference, home, crucial, dante, follow, adapted, country, today,\n",
      "Nearest to which: meaning, medium, vacuum, flesh, follow, greatest, indicate, perhaps,\n",
      "Nearest to nine: davis, november, protests, km, january, five, skating, ruled,\n",
      "Nearest to d: database, headed, contained, hockey, prisoner, ophthalmologist, buffalo, p,\n",
      "Nearest to called: messenger, upon, maker, technique, roots, london, passage, displays,\n",
      "Nearest to channel: infinite, weapons, reginald, hebrew, gas, you, assistant, compact,\n",
      "Nearest to freedom: entry, knowledge, wood, modern, permitted, pass, beetles, these,\n",
      "Nearest to mathematics: experienced, friedman, declared, hear, requirements, sites, acute, carol,\n",
      "Nearest to ocean: bomber, phase, anthropology, topic, ruth, port, tart, sri,\n",
      "Nearest to numerous: could, chechens, protection, involve, legs, rational, promoted, advantage,\n",
      "Nearest to bbc: precedes, morphine, dam, civilians, interstate, realism, cunning, julia,\n",
      "Nearest to frac: singapore, la, ced, outstanding, argouml, n, fewer, sheep,\n",
      "Nearest to professional: implied, mickey, intense, google, fca, profit, operational, griseus,\n",
      "Epoch 1/10 Iteration: 6100 Avg. Training loss: 4.1510 0.3266 sec/batch\n",
      "Epoch 1/10 Iteration: 6200 Avg. Training loss: 4.0682 0.2847 sec/batch\n",
      "Epoch 1/10 Iteration: 6300 Avg. Training loss: 4.0702 0.2875 sec/batch\n",
      "Epoch 1/10 Iteration: 6400 Avg. Training loss: 4.1105 0.2742 sec/batch\n",
      "Epoch 1/10 Iteration: 6500 Avg. Training loss: 4.1499 0.2786 sec/batch\n",
      "Epoch 1/10 Iteration: 6600 Avg. Training loss: 4.0929 0.2754 sec/batch\n",
      "Epoch 1/10 Iteration: 6700 Avg. Training loss: 4.1385 0.2762 sec/batch\n",
      "Epoch 1/10 Iteration: 6800 Avg. Training loss: 4.1311 0.2768 sec/batch\n",
      "Epoch 1/10 Iteration: 6900 Avg. Training loss: 4.0863 0.2812 sec/batch\n",
      "Epoch 1/10 Iteration: 7000 Avg. Training loss: 4.1003 0.2776 sec/batch\n",
      "Nearest to are: millennium, mild, f, such, were, capacity, no, birds,\n",
      "Nearest to three: porto, availability, primarily, facto, stanford, carranza, designer, haven,\n",
      "Nearest to to: myth, variation, them, arranged, intersection, him, release, through,\n",
      "Nearest to or: home, reference, dante, adapted, crucial, follow, country, another,\n",
      "Nearest to which: meaning, medium, vacuum, flesh, follow, greatest, perhaps, a,\n",
      "Nearest to nine: davis, skating, protests, november, km, composer, five, january,\n",
      "Nearest to d: database, headed, contained, hockey, gps, prisoner, ophthalmologist, buffalo,\n",
      "Nearest to called: messenger, upon, technique, maker, roots, london, referred, passage,\n",
      "Nearest to channel: weapons, infinite, reginald, memoirs, hebrew, compact, gas, assistant,\n",
      "Nearest to freedom: entry, knowledge, wood, permitted, modern, these, pass, clients,\n",
      "Nearest to mathematics: experienced, friedman, declared, hear, requirements, acute, xiv, revolution,\n",
      "Nearest to ocean: bomber, anthropology, port, topic, phase, ruth, tart, sri,\n",
      "Nearest to numerous: chechens, protection, legs, involve, could, rational, promoted, records,\n",
      "Nearest to bbc: precedes, dam, interstate, morphine, civilians, realism, cunning, homepage,\n",
      "Nearest to frac: singapore, la, ced, argouml, outstanding, fewer, n, nigeria,\n",
      "Nearest to professional: implied, mickey, intense, fca, profit, griseus, google, operational,\n",
      "Epoch 1/10 Iteration: 7100 Avg. Training loss: 4.1157 0.2819 sec/batch\n",
      "Epoch 1/10 Iteration: 7200 Avg. Training loss: 4.1143 0.3011 sec/batch\n",
      "Epoch 1/10 Iteration: 7300 Avg. Training loss: 4.1198 0.2800 sec/batch\n",
      "Epoch 1/10 Iteration: 7400 Avg. Training loss: 4.1226 0.2759 sec/batch\n",
      "Epoch 1/10 Iteration: 7500 Avg. Training loss: 4.0949 0.2747 sec/batch\n",
      "Epoch 1/10 Iteration: 7600 Avg. Training loss: 4.1100 0.2797 sec/batch\n",
      "Epoch 1/10 Iteration: 7700 Avg. Training loss: 4.1326 0.3045 sec/batch\n",
      "Epoch 1/10 Iteration: 7800 Avg. Training loss: 4.1198 0.2900 sec/batch\n",
      "Epoch 1/10 Iteration: 7900 Avg. Training loss: 4.0994 0.2936 sec/batch\n",
      "Epoch 1/10 Iteration: 8000 Avg. Training loss: 4.1137 0.2945 sec/batch\n",
      "Nearest to are: millennium, were, mild, f, no, such, capacity, birds,\n",
      "Nearest to three: porto, primarily, availability, stanford, carranza, facto, under, define,\n",
      "Nearest to to: myth, them, variation, arranged, intersection, through, him, release,\n",
      "Nearest to or: home, reference, dante, adapted, follow, fighters, straight, crucial,\n",
      "Nearest to which: meaning, medium, vacuum, flesh, follow, one, greatest, up,\n",
      "Nearest to nine: davis, skating, protests, november, five, km, ruled, january,\n",
      "Nearest to d: database, headed, contained, gps, hockey, buffalo, ophthalmologist, prisoner,\n",
      "Nearest to called: messenger, maker, london, upon, technique, roots, referred, passage,\n",
      "Nearest to channel: weapons, infinite, memoirs, reginald, hebrew, gas, compact, websites,\n",
      "Nearest to freedom: entry, knowledge, wood, permitted, modern, beetles, pass, these,\n",
      "Nearest to mathematics: experienced, friedman, declared, hear, revolution, sites, carol, ethanol,\n",
      "Nearest to ocean: bomber, anthropology, port, phase, south, coast, topic, sri,\n",
      "Nearest to numerous: chechens, protection, legs, involve, could, promoted, records, those,\n",
      "Nearest to bbc: precedes, interstate, dam, morphine, homepage, civilians, cunning, julia,\n",
      "Nearest to frac: singapore, la, ced, argouml, n, h, sheep, outstanding,\n",
      "Nearest to professional: implied, mickey, griseus, google, operational, fca, profit, intense,\n"
     ]
    },
    {
     "name": "stdout",
     "output_type": "stream",
     "text": [
      "Epoch 1/10 Iteration: 8100 Avg. Training loss: 4.1142 0.2937 sec/batch\n",
      "Epoch 1/10 Iteration: 8200 Avg. Training loss: 4.1088 0.2910 sec/batch\n",
      "Epoch 1/10 Iteration: 8300 Avg. Training loss: 4.1195 0.2891 sec/batch\n",
      "Epoch 1/10 Iteration: 8400 Avg. Training loss: 4.0814 0.2851 sec/batch\n",
      "Epoch 1/10 Iteration: 8500 Avg. Training loss: 4.1104 0.2884 sec/batch\n",
      "Epoch 1/10 Iteration: 8600 Avg. Training loss: 4.1161 0.2890 sec/batch\n",
      "Epoch 1/10 Iteration: 8700 Avg. Training loss: 4.0455 0.2809 sec/batch\n",
      "Epoch 1/10 Iteration: 8800 Avg. Training loss: 4.0778 0.2816 sec/batch\n",
      "Epoch 1/10 Iteration: 8900 Avg. Training loss: 4.0962 0.2849 sec/batch\n",
      "Epoch 1/10 Iteration: 9000 Avg. Training loss: 4.1116 0.2853 sec/batch\n",
      "Nearest to are: were, millennium, mild, f, birds, no, capacity, such,\n",
      "Nearest to three: porto, availability, stanford, carranza, primarily, facto, under, for,\n",
      "Nearest to to: myth, them, arranged, variation, intersection, through, release, him,\n",
      "Nearest to or: reference, home, dante, adapted, fighters, follow, another, straight,\n",
      "Nearest to which: meaning, medium, vacuum, follow, flesh, one, greatest, terrified,\n",
      "Nearest to nine: davis, skating, protests, november, km, five, january, ruled,\n",
      "Nearest to d: database, headed, contained, gps, ophthalmologist, buffalo, hockey, p,\n",
      "Nearest to called: messenger, maker, technique, referred, upon, london, displays, roots,\n",
      "Nearest to channel: infinite, reginald, weapons, memoirs, gas, hebrew, you, compact,\n",
      "Nearest to freedom: entry, knowledge, wood, permitted, modern, these, beetles, pass,\n",
      "Nearest to mathematics: experienced, friedman, declared, revolution, acute, ethanol, hear, communicates,\n",
      "Nearest to ocean: bomber, south, coast, port, asia, anthropology, sri, phase,\n",
      "Nearest to numerous: chechens, involve, protection, legs, several, many, records, those,\n",
      "Nearest to bbc: precedes, interstate, dam, morphine, homepage, civilians, cunning, julia,\n",
      "Nearest to frac: singapore, la, ced, n, argouml, h, r, boole,\n",
      "Nearest to professional: implied, mickey, griseus, intense, fca, google, profit, safeties,\n",
      "Epoch 1/10 Iteration: 9100 Avg. Training loss: 3.7327 0.2781 sec/batch\n",
      "Epoch 1/10 Iteration: 9200 Avg. Training loss: 3.9692 0.2849 sec/batch\n",
      "Epoch 1/10 Iteration: 9300 Avg. Training loss: 3.9059 0.2803 sec/batch\n",
      "Epoch 1/10 Iteration: 9400 Avg. Training loss: 3.9726 0.2897 sec/batch\n",
      "Epoch 1/10 Iteration: 9500 Avg. Training loss: 4.0574 0.2997 sec/batch\n",
      "Epoch 1/10 Iteration: 9600 Avg. Training loss: 4.0554 0.3033 sec/batch\n",
      "Epoch 1/10 Iteration: 9700 Avg. Training loss: 4.1207 0.3012 sec/batch\n",
      "Epoch 1/10 Iteration: 9800 Avg. Training loss: 4.1006 0.3004 sec/batch\n",
      "Epoch 1/10 Iteration: 9900 Avg. Training loss: 4.0877 0.2731 sec/batch\n",
      "Epoch 1/10 Iteration: 10000 Avg. Training loss: 4.0873 3.2480 sec/batch\n",
      "Nearest to are: were, mild, millennium, birds, these, capacity, no, f,\n",
      "Nearest to three: porto, availability, carranza, primarily, facto, stanford, carriers, designer,\n",
      "Nearest to to: myth, arranged, them, intersection, variation, release, through, him,\n",
      "Nearest to or: reference, home, another, adapted, dante, follow, country, wealth,\n",
      "Nearest to which: meaning, medium, vacuum, flesh, follow, one, terrified, up,\n",
      "Nearest to nine: skating, davis, protests, november, where, five, telescope, lots,\n",
      "Nearest to d: database, contained, hockey, headed, gps, ophthalmologist, gothicus, buffalo,\n",
      "Nearest to called: messenger, referred, technique, maker, london, displays, upon, passage,\n",
      "Nearest to channel: infinite, reginald, weapons, memoirs, gas, compact, hebrew, you,\n",
      "Nearest to freedom: entry, permitted, wood, beetles, knowledge, evict, modern, contributing,\n",
      "Nearest to mathematics: experienced, friedman, declared, acute, ethanol, revolution, fifa, communicates,\n",
      "Nearest to ocean: bomber, coast, port, sri, asia, south, across, phase,\n",
      "Nearest to numerous: chechens, involve, protection, legs, several, records, many, those,\n",
      "Nearest to bbc: interstate, dam, precedes, morphine, homepage, links, indications, haley,\n",
      "Nearest to frac: la, ced, singapore, n, argouml, r, h, boole,\n",
      "Nearest to professional: mickey, griseus, implied, fca, safeties, profit, google, intense,\n",
      "Epoch 1/10 Iteration: 10100 Avg. Training loss: 4.1186 0.3113 sec/batch\n",
      "Epoch 1/10 Iteration: 10200 Avg. Training loss: 4.0256 0.3177 sec/batch\n",
      "Epoch 1/10 Iteration: 10300 Avg. Training loss: 4.1076 0.2858 sec/batch\n",
      "Epoch 1/10 Iteration: 10400 Avg. Training loss: 4.1017 0.2844 sec/batch\n",
      "Epoch 1/10 Iteration: 10500 Avg. Training loss: 4.0646 0.2848 sec/batch\n",
      "Epoch 1/10 Iteration: 10600 Avg. Training loss: 4.0843 0.2829 sec/batch\n",
      "Epoch 1/10 Iteration: 10700 Avg. Training loss: 4.1080 0.2862 sec/batch\n",
      "Epoch 1/10 Iteration: 10800 Avg. Training loss: 4.0918 0.2875 sec/batch\n",
      "Epoch 1/10 Iteration: 10900 Avg. Training loss: 4.1131 0.2982 sec/batch\n",
      "Epoch 1/10 Iteration: 11000 Avg. Training loss: 3.9985 0.3073 sec/batch\n",
      "Nearest to are: were, mild, millennium, birds, f, capacity, pitch, these,\n",
      "Nearest to three: porto, availability, carranza, primarily, under, facto, castro, normal,\n",
      "Nearest to to: myth, arranged, intersection, them, variation, through, release, taken,\n",
      "Nearest to or: reference, dante, adapted, another, fighters, follow, home, straight,\n",
      "Nearest to which: meaning, medium, vacuum, flesh, follow, one, terrified, up,\n",
      "Nearest to nine: skating, davis, protests, november, five, lots, km, commandants,\n",
      "Nearest to d: database, contained, headed, gps, hockey, ophthalmologist, buffalo, gothicus,\n",
      "Nearest to called: messenger, technique, maker, london, referred, displays, roots, passage,\n",
      "Nearest to channel: reginald, weapons, infinite, memoirs, gas, trends, hebrew, you,\n",
      "Nearest to freedom: entry, knowledge, permitted, evict, beetles, contributing, wood, these,\n",
      "Nearest to mathematics: experienced, friedman, ethanol, acute, revolution, fifa, communicates, declared,\n",
      "Nearest to ocean: bomber, coast, port, south, across, desert, asia, situated,\n",
      "Nearest to numerous: chechens, several, many, legs, involve, those, records, protection,\n",
      "Nearest to bbc: dam, precedes, interstate, morphine, homepage, indications, haley, links,\n",
      "Nearest to frac: la, ced, n, sin, h, argouml, singapore, r,\n",
      "Nearest to professional: implied, griseus, mickey, safeties, fca, intense, learning, google,\n",
      "Epoch 1/10 Iteration: 11100 Avg. Training loss: 4.0136 0.2881 sec/batch\n",
      "Epoch 1/10 Iteration: 11200 Avg. Training loss: 4.0697 0.2862 sec/batch\n",
      "Epoch 1/10 Iteration: 11300 Avg. Training loss: 3.9661 0.2857 sec/batch\n",
      "Epoch 1/10 Iteration: 11400 Avg. Training loss: 4.0506 0.2869 sec/batch\n",
      "Epoch 1/10 Iteration: 11500 Avg. Training loss: 4.1098 0.2835 sec/batch\n",
      "Epoch 1/10 Iteration: 11600 Avg. Training loss: 4.0910 0.2846 sec/batch\n",
      "Epoch 1/10 Iteration: 11700 Avg. Training loss: 3.9834 0.2821 sec/batch\n",
      "Epoch 1/10 Iteration: 11800 Avg. Training loss: 4.0439 0.2828 sec/batch\n",
      "Epoch 1/10 Iteration: 11900 Avg. Training loss: 4.0348 0.2869 sec/batch\n",
      "Epoch 1/10 Iteration: 12000 Avg. Training loss: 4.0922 0.2910 sec/batch\n",
      "Nearest to are: were, mild, millennium, pitch, f, capacity, birds, reverting,\n",
      "Nearest to three: porto, availability, designer, primarily, facto, carranza, stanford, castro,\n",
      "Nearest to to: myth, arranged, intersection, them, variation, through, release, taken,\n",
      "Nearest to or: reference, adapted, another, dante, fighters, straight, follow, wealth,\n",
      "Nearest to which: meaning, medium, vacuum, flesh, one, follow, terrified, up,\n",
      "Nearest to nine: skating, davis, protests, november, jan, five, lots, lawhead,\n",
      "Nearest to d: database, contained, hockey, ophthalmologist, gothicus, gps, headed, inventor,\n",
      "Nearest to called: messenger, technique, london, referred, displays, maker, turkey, origins,\n",
      "Nearest to channel: reginald, infinite, memoirs, weapons, trends, compact, gas, hebrew,\n",
      "Nearest to freedom: entry, knowledge, evict, beetles, permitted, contributing, wood, bou,\n",
      "Nearest to mathematics: experienced, friedman, communicates, ethanol, revolution, fifa, sites, acute,\n",
      "Nearest to ocean: bomber, across, coast, port, south, desert, situated, asia,\n",
      "Nearest to numerous: chechens, several, many, involve, records, those, legs, gehrig,\n",
      "Nearest to bbc: precedes, morphine, dam, interstate, homepage, links, external, indications,\n",
      "Nearest to frac: la, n, ced, sin, argouml, r, singapore, h,\n",
      "Nearest to professional: mickey, griseus, implied, fca, safeties, hugo, learning, operational,\n"
     ]
    },
    {
     "name": "stdout",
     "output_type": "stream",
     "text": [
      "Epoch 2/10 Iteration: 12100 Avg. Training loss: 4.1067 0.1405 sec/batch\n",
      "Epoch 2/10 Iteration: 12200 Avg. Training loss: 4.1022 0.2894 sec/batch\n",
      "Epoch 2/10 Iteration: 12300 Avg. Training loss: 4.0902 0.2912 sec/batch\n",
      "Epoch 2/10 Iteration: 12400 Avg. Training loss: 4.1020 0.2849 sec/batch\n",
      "Epoch 2/10 Iteration: 12500 Avg. Training loss: 4.0189 0.2845 sec/batch\n",
      "Epoch 2/10 Iteration: 12600 Avg. Training loss: 4.0472 0.2873 sec/batch\n",
      "Epoch 2/10 Iteration: 12700 Avg. Training loss: 4.0142 0.2867 sec/batch\n",
      "Epoch 2/10 Iteration: 12800 Avg. Training loss: 3.9117 0.2809 sec/batch\n",
      "Epoch 2/10 Iteration: 12900 Avg. Training loss: 3.9863 0.2847 sec/batch\n",
      "Epoch 2/10 Iteration: 13000 Avg. Training loss: 4.0796 0.2856 sec/batch\n",
      "Nearest to are: were, mild, birds, millennium, capacity, pitch, reverting, f,\n",
      "Nearest to three: porto, availability, designer, carranza, castro, primarily, facto, stanford,\n",
      "Nearest to to: myth, arranged, intersection, them, variation, through, taken, extracted,\n",
      "Nearest to or: adapted, dante, another, follow, reference, fighters, straight, wealth,\n",
      "Nearest to which: meaning, medium, vacuum, flesh, follow, one, terrified, up,\n",
      "Nearest to nine: skating, davis, protests, five, november, jan, tells, lawhead,\n",
      "Nearest to d: hockey, database, contained, ophthalmologist, gothicus, headed, inventor, gps,\n",
      "Nearest to called: messenger, technique, referred, london, turkey, maker, displays, roots,\n",
      "Nearest to channel: reginald, trends, memoirs, infinite, custom, compact, weapons, bez,\n",
      "Nearest to freedom: knowledge, entry, evict, permitted, contributing, beetles, these, bou,\n",
      "Nearest to mathematics: experienced, friedman, communicates, ethanol, fifa, revolution, puts, acute,\n",
      "Nearest to ocean: bomber, across, coast, desert, situated, port, south, continent,\n",
      "Nearest to numerous: several, chechens, many, records, involve, legs, those, gehrig,\n",
      "Nearest to bbc: precedes, morphine, links, homepage, dam, interstate, external, website,\n",
      "Nearest to frac: ced, argouml, la, sin, n, r, singapore, measured,\n",
      "Nearest to professional: griseus, mickey, implied, fca, safeties, profit, learning, hugo,\n",
      "Epoch 2/10 Iteration: 13100 Avg. Training loss: 4.0508 0.2890 sec/batch\n",
      "Epoch 2/10 Iteration: 13200 Avg. Training loss: 4.0384 0.3101 sec/batch\n",
      "Epoch 2/10 Iteration: 13300 Avg. Training loss: 4.0432 0.2735 sec/batch\n",
      "Epoch 2/10 Iteration: 13400 Avg. Training loss: 4.0146 8.8665 sec/batch\n",
      "Epoch 2/10 Iteration: 13500 Avg. Training loss: 4.0890 9.3811 sec/batch\n",
      "Epoch 2/10 Iteration: 13600 Avg. Training loss: 4.0753 1.4105 sec/batch\n",
      "Epoch 2/10 Iteration: 13700 Avg. Training loss: 4.0956 0.3421 sec/batch\n",
      "Epoch 2/10 Iteration: 13800 Avg. Training loss: 4.0475 0.2918 sec/batch\n",
      "Epoch 2/10 Iteration: 13900 Avg. Training loss: 4.0790 0.2988 sec/batch\n",
      "Epoch 2/10 Iteration: 14000 Avg. Training loss: 4.0746 0.2962 sec/batch\n",
      "Nearest to are: were, mild, birds, millennium, reverting, f, capacity, weeklies,\n",
      "Nearest to three: porto, availability, carranza, castro, designer, primarily, facto, under,\n",
      "Nearest to to: myth, intersection, arranged, them, variation, through, extracted, often,\n",
      "Nearest to or: adapted, reference, fighters, dante, straight, another, dark, home,\n",
      "Nearest to which: meaning, medium, vacuum, flesh, one, terrified, follow, furrows,\n",
      "Nearest to nine: skating, davis, protests, november, five, tells, commandants, lawhead,\n",
      "Nearest to d: database, contained, gothicus, hockey, ophthalmologist, gps, headed, inventor,\n",
      "Nearest to called: messenger, technique, referred, london, displays, element, turkey, upon,\n",
      "Nearest to channel: reginald, compact, infinite, custom, memoirs, stations, trends, zimbabwe,\n",
      "Nearest to freedom: knowledge, evict, beetles, bou, contributing, permitted, entry, these,\n",
      "Nearest to mathematics: experienced, friedman, communicates, ethanol, revolution, puts, fifa, acute,\n",
      "Nearest to ocean: bomber, situated, coast, desert, across, port, south, continent,\n",
      "Nearest to numerous: several, chechens, many, involve, records, those, legs, seer,\n",
      "Nearest to bbc: precedes, morphine, dam, interstate, homepage, links, external, indications,\n",
      "Nearest to frac: n, ced, argouml, la, sin, r, measured, hospice,\n",
      "Nearest to professional: implied, griseus, mickey, fca, safeties, baseball, learning, profit,\n"
     ]
    },
    {
     "ename": "KeyboardInterrupt",
     "evalue": "",
     "output_type": "error",
     "traceback": [
      "\u001b[0;31m---------------------------------------------------------------------------\u001b[0m",
      "\u001b[0;31mKeyboardInterrupt\u001b[0m                         Traceback (most recent call last)",
      "\u001b[0;32m<ipython-input-42-b1d3869cd0d6>\u001b[0m in \u001b[0;36m<module>\u001b[0;34m()\u001b[0m\n\u001b[1;32m     18\u001b[0m             feed = {inputs: x,\n\u001b[1;32m     19\u001b[0m                     labels: np.array(y)[:, None]}\n\u001b[0;32m---> 20\u001b[0;31m             \u001b[0mtrain_loss\u001b[0m\u001b[0;34m,\u001b[0m \u001b[0m_\u001b[0m \u001b[0;34m=\u001b[0m \u001b[0msess\u001b[0m\u001b[0;34m.\u001b[0m\u001b[0mrun\u001b[0m\u001b[0;34m(\u001b[0m\u001b[0;34m[\u001b[0m\u001b[0mcost\u001b[0m\u001b[0;34m,\u001b[0m \u001b[0moptimizer\u001b[0m\u001b[0;34m]\u001b[0m\u001b[0;34m,\u001b[0m \u001b[0mfeed_dict\u001b[0m\u001b[0;34m=\u001b[0m\u001b[0mfeed\u001b[0m\u001b[0;34m)\u001b[0m\u001b[0;34m\u001b[0m\u001b[0m\n\u001b[0m\u001b[1;32m     21\u001b[0m \u001b[0;34m\u001b[0m\u001b[0m\n\u001b[1;32m     22\u001b[0m             \u001b[0mloss\u001b[0m \u001b[0;34m+=\u001b[0m \u001b[0mtrain_loss\u001b[0m\u001b[0;34m\u001b[0m\u001b[0m\n",
      "\u001b[0;32m/Users/hidehiro/.pyenv/versions/anaconda3-5.0.0/envs/dlnd-embeddings/lib/python3.5/site-packages/tensorflow/python/client/session.py\u001b[0m in \u001b[0;36mrun\u001b[0;34m(self, fetches, feed_dict, options, run_metadata)\u001b[0m\n\u001b[1;32m    765\u001b[0m     \u001b[0;32mtry\u001b[0m\u001b[0;34m:\u001b[0m\u001b[0;34m\u001b[0m\u001b[0m\n\u001b[1;32m    766\u001b[0m       result = self._run(None, fetches, feed_dict, options_ptr,\n\u001b[0;32m--> 767\u001b[0;31m                          run_metadata_ptr)\n\u001b[0m\u001b[1;32m    768\u001b[0m       \u001b[0;32mif\u001b[0m \u001b[0mrun_metadata\u001b[0m\u001b[0;34m:\u001b[0m\u001b[0;34m\u001b[0m\u001b[0m\n\u001b[1;32m    769\u001b[0m         \u001b[0mproto_data\u001b[0m \u001b[0;34m=\u001b[0m \u001b[0mtf_session\u001b[0m\u001b[0;34m.\u001b[0m\u001b[0mTF_GetBuffer\u001b[0m\u001b[0;34m(\u001b[0m\u001b[0mrun_metadata_ptr\u001b[0m\u001b[0;34m)\u001b[0m\u001b[0;34m\u001b[0m\u001b[0m\n",
      "\u001b[0;32m/Users/hidehiro/.pyenv/versions/anaconda3-5.0.0/envs/dlnd-embeddings/lib/python3.5/site-packages/tensorflow/python/client/session.py\u001b[0m in \u001b[0;36m_run\u001b[0;34m(self, handle, fetches, feed_dict, options, run_metadata)\u001b[0m\n\u001b[1;32m    963\u001b[0m     \u001b[0;32mif\u001b[0m \u001b[0mfinal_fetches\u001b[0m \u001b[0;32mor\u001b[0m \u001b[0mfinal_targets\u001b[0m\u001b[0;34m:\u001b[0m\u001b[0;34m\u001b[0m\u001b[0m\n\u001b[1;32m    964\u001b[0m       results = self._do_run(handle, final_targets, final_fetches,\n\u001b[0;32m--> 965\u001b[0;31m                              feed_dict_string, options, run_metadata)\n\u001b[0m\u001b[1;32m    966\u001b[0m     \u001b[0;32melse\u001b[0m\u001b[0;34m:\u001b[0m\u001b[0;34m\u001b[0m\u001b[0m\n\u001b[1;32m    967\u001b[0m       \u001b[0mresults\u001b[0m \u001b[0;34m=\u001b[0m \u001b[0;34m[\u001b[0m\u001b[0;34m]\u001b[0m\u001b[0;34m\u001b[0m\u001b[0m\n",
      "\u001b[0;32m/Users/hidehiro/.pyenv/versions/anaconda3-5.0.0/envs/dlnd-embeddings/lib/python3.5/site-packages/tensorflow/python/client/session.py\u001b[0m in \u001b[0;36m_do_run\u001b[0;34m(self, handle, target_list, fetch_list, feed_dict, options, run_metadata)\u001b[0m\n\u001b[1;32m   1013\u001b[0m     \u001b[0;32mif\u001b[0m \u001b[0mhandle\u001b[0m \u001b[0;32mis\u001b[0m \u001b[0;32mNone\u001b[0m\u001b[0;34m:\u001b[0m\u001b[0;34m\u001b[0m\u001b[0m\n\u001b[1;32m   1014\u001b[0m       return self._do_call(_run_fn, self._session, feed_dict, fetch_list,\n\u001b[0;32m-> 1015\u001b[0;31m                            target_list, options, run_metadata)\n\u001b[0m\u001b[1;32m   1016\u001b[0m     \u001b[0;32melse\u001b[0m\u001b[0;34m:\u001b[0m\u001b[0;34m\u001b[0m\u001b[0m\n\u001b[1;32m   1017\u001b[0m       return self._do_call(_prun_fn, self._session, handle, feed_dict,\n",
      "\u001b[0;32m/Users/hidehiro/.pyenv/versions/anaconda3-5.0.0/envs/dlnd-embeddings/lib/python3.5/site-packages/tensorflow/python/client/session.py\u001b[0m in \u001b[0;36m_do_call\u001b[0;34m(self, fn, *args)\u001b[0m\n\u001b[1;32m   1020\u001b[0m   \u001b[0;32mdef\u001b[0m \u001b[0m_do_call\u001b[0m\u001b[0;34m(\u001b[0m\u001b[0mself\u001b[0m\u001b[0;34m,\u001b[0m \u001b[0mfn\u001b[0m\u001b[0;34m,\u001b[0m \u001b[0;34m*\u001b[0m\u001b[0margs\u001b[0m\u001b[0;34m)\u001b[0m\u001b[0;34m:\u001b[0m\u001b[0;34m\u001b[0m\u001b[0m\n\u001b[1;32m   1021\u001b[0m     \u001b[0;32mtry\u001b[0m\u001b[0;34m:\u001b[0m\u001b[0;34m\u001b[0m\u001b[0m\n\u001b[0;32m-> 1022\u001b[0;31m       \u001b[0;32mreturn\u001b[0m \u001b[0mfn\u001b[0m\u001b[0;34m(\u001b[0m\u001b[0;34m*\u001b[0m\u001b[0margs\u001b[0m\u001b[0;34m)\u001b[0m\u001b[0;34m\u001b[0m\u001b[0m\n\u001b[0m\u001b[1;32m   1023\u001b[0m     \u001b[0;32mexcept\u001b[0m \u001b[0merrors\u001b[0m\u001b[0;34m.\u001b[0m\u001b[0mOpError\u001b[0m \u001b[0;32mas\u001b[0m \u001b[0me\u001b[0m\u001b[0;34m:\u001b[0m\u001b[0;34m\u001b[0m\u001b[0m\n\u001b[1;32m   1024\u001b[0m       \u001b[0mmessage\u001b[0m \u001b[0;34m=\u001b[0m \u001b[0mcompat\u001b[0m\u001b[0;34m.\u001b[0m\u001b[0mas_text\u001b[0m\u001b[0;34m(\u001b[0m\u001b[0me\u001b[0m\u001b[0;34m.\u001b[0m\u001b[0mmessage\u001b[0m\u001b[0;34m)\u001b[0m\u001b[0;34m\u001b[0m\u001b[0m\n",
      "\u001b[0;32m/Users/hidehiro/.pyenv/versions/anaconda3-5.0.0/envs/dlnd-embeddings/lib/python3.5/site-packages/tensorflow/python/client/session.py\u001b[0m in \u001b[0;36m_run_fn\u001b[0;34m(session, feed_dict, fetch_list, target_list, options, run_metadata)\u001b[0m\n\u001b[1;32m   1002\u001b[0m         return tf_session.TF_Run(session, options,\n\u001b[1;32m   1003\u001b[0m                                  \u001b[0mfeed_dict\u001b[0m\u001b[0;34m,\u001b[0m \u001b[0mfetch_list\u001b[0m\u001b[0;34m,\u001b[0m \u001b[0mtarget_list\u001b[0m\u001b[0;34m,\u001b[0m\u001b[0;34m\u001b[0m\u001b[0m\n\u001b[0;32m-> 1004\u001b[0;31m                                  status, run_metadata)\n\u001b[0m\u001b[1;32m   1005\u001b[0m \u001b[0;34m\u001b[0m\u001b[0m\n\u001b[1;32m   1006\u001b[0m     \u001b[0;32mdef\u001b[0m \u001b[0m_prun_fn\u001b[0m\u001b[0;34m(\u001b[0m\u001b[0msession\u001b[0m\u001b[0;34m,\u001b[0m \u001b[0mhandle\u001b[0m\u001b[0;34m,\u001b[0m \u001b[0mfeed_dict\u001b[0m\u001b[0;34m,\u001b[0m \u001b[0mfetch_list\u001b[0m\u001b[0;34m)\u001b[0m\u001b[0;34m:\u001b[0m\u001b[0;34m\u001b[0m\u001b[0m\n",
      "\u001b[0;31mKeyboardInterrupt\u001b[0m: "
     ]
    }
   ],
   "source": [
    "epochs = 10\n",
    "batch_size = 1000\n",
    "window_size = 10\n",
    "\n",
    "with train_graph.as_default():\n",
    "    saver = tf.train.Saver()\n",
    "\n",
    "with tf.Session(graph=train_graph) as sess:\n",
    "    iteration = 1\n",
    "    loss = 0\n",
    "    sess.run(tf.global_variables_initializer())\n",
    "\n",
    "    for e in range(1, epochs+1):\n",
    "        batches = get_batches(train_words, batch_size, window_size)\n",
    "        start = time.time()\n",
    "        for x, y in batches:\n",
    "            \n",
    "            feed = {inputs: x,\n",
    "                    labels: np.array(y)[:, None]}\n",
    "            train_loss, _ = sess.run([cost, optimizer], feed_dict=feed)\n",
    "            \n",
    "            loss += train_loss\n",
    "            \n",
    "            if iteration % 100 == 0: \n",
    "                end = time.time()\n",
    "                print(\"Epoch {}/{}\".format(e, epochs),\n",
    "                      \"Iteration: {}\".format(iteration),\n",
    "                      \"Avg. Training loss: {:.4f}\".format(loss/100),\n",
    "                      \"{:.4f} sec/batch\".format((end-start)/100))\n",
    "                loss = 0\n",
    "                start = time.time()\n",
    "            \n",
    "            if iteration % 1000 == 0:\n",
    "                ## From Thushan Ganegedara's implementation\n",
    "                # note that this is expensive (~20% slowdown if computed every 500 steps)\n",
    "                sim = similarity.eval()\n",
    "                for i in range(valid_size):\n",
    "                    valid_word = int_to_vocab[valid_examples[i]]\n",
    "                    top_k = 8 # number of nearest neighbors\n",
    "                    nearest = (-sim[i, :]).argsort()[1:top_k+1]\n",
    "                    log = 'Nearest to %s:' % valid_word\n",
    "                    for k in range(top_k):\n",
    "                        close_word = int_to_vocab[nearest[k]]\n",
    "                        log = '%s %s,' % (log, close_word)\n",
    "                    print(log)\n",
    "            \n",
    "            iteration += 1\n",
    "    save_path = saver.save(sess, \"checkpoints/text8.ckpt\")\n",
    "    embed_mat = sess.run(normalized_embedding)"
   ]
  },
  {
   "cell_type": "markdown",
   "metadata": {},
   "source": [
    "Restore the trained network if you need to:"
   ]
  },
  {
   "cell_type": "code",
   "execution_count": 41,
   "metadata": {},
   "outputs": [
    {
     "ename": "SystemError",
     "evalue": "<built-in function TF_Run> returned a result with an error set",
     "output_type": "error",
     "traceback": [
      "\u001b[0;31m---------------------------------------------------------------------------\u001b[0m",
      "\u001b[0;31mTypeError\u001b[0m                                 Traceback (most recent call last)",
      "\u001b[0;31mTypeError\u001b[0m: expected bytes, NoneType found",
      "\nDuring handling of the above exception, another exception occurred:\n",
      "\u001b[0;31mSystemError\u001b[0m                               Traceback (most recent call last)",
      "\u001b[0;32m<ipython-input-41-4eeca6a379f0>\u001b[0m in \u001b[0;36m<module>\u001b[0;34m()\u001b[0m\n\u001b[1;32m      3\u001b[0m \u001b[0;34m\u001b[0m\u001b[0m\n\u001b[1;32m      4\u001b[0m \u001b[0;32mwith\u001b[0m \u001b[0mtf\u001b[0m\u001b[0;34m.\u001b[0m\u001b[0mSession\u001b[0m\u001b[0;34m(\u001b[0m\u001b[0mgraph\u001b[0m\u001b[0;34m=\u001b[0m\u001b[0mtrain_graph\u001b[0m\u001b[0;34m)\u001b[0m \u001b[0;32mas\u001b[0m \u001b[0msess\u001b[0m\u001b[0;34m:\u001b[0m\u001b[0;34m\u001b[0m\u001b[0m\n\u001b[0;32m----> 5\u001b[0;31m     \u001b[0msaver\u001b[0m\u001b[0;34m.\u001b[0m\u001b[0mrestore\u001b[0m\u001b[0;34m(\u001b[0m\u001b[0msess\u001b[0m\u001b[0;34m,\u001b[0m \u001b[0mtf\u001b[0m\u001b[0;34m.\u001b[0m\u001b[0mtrain\u001b[0m\u001b[0;34m.\u001b[0m\u001b[0mlatest_checkpoint\u001b[0m\u001b[0;34m(\u001b[0m\u001b[0;34m'checkpoints'\u001b[0m\u001b[0;34m)\u001b[0m\u001b[0;34m)\u001b[0m\u001b[0;34m\u001b[0m\u001b[0m\n\u001b[0m\u001b[1;32m      6\u001b[0m     \u001b[0membed_mat\u001b[0m \u001b[0;34m=\u001b[0m \u001b[0msess\u001b[0m\u001b[0;34m.\u001b[0m\u001b[0mrun\u001b[0m\u001b[0;34m(\u001b[0m\u001b[0membedding\u001b[0m\u001b[0;34m)\u001b[0m\u001b[0;34m\u001b[0m\u001b[0m\n",
      "\u001b[0;32m/Users/hidehiro/.pyenv/versions/anaconda3-5.0.0/envs/dlnd-embeddings/lib/python3.5/site-packages/tensorflow/python/training/saver.py\u001b[0m in \u001b[0;36mrestore\u001b[0;34m(self, sess, save_path)\u001b[0m\n\u001b[1;32m   1437\u001b[0m       \u001b[0;32mreturn\u001b[0m\u001b[0;34m\u001b[0m\u001b[0m\n\u001b[1;32m   1438\u001b[0m     sess.run(self.saver_def.restore_op_name,\n\u001b[0;32m-> 1439\u001b[0;31m              {self.saver_def.filename_tensor_name: save_path})\n\u001b[0m\u001b[1;32m   1440\u001b[0m \u001b[0;34m\u001b[0m\u001b[0m\n\u001b[1;32m   1441\u001b[0m   \u001b[0;34m@\u001b[0m\u001b[0mstaticmethod\u001b[0m\u001b[0;34m\u001b[0m\u001b[0m\n",
      "\u001b[0;32m/Users/hidehiro/.pyenv/versions/anaconda3-5.0.0/envs/dlnd-embeddings/lib/python3.5/site-packages/tensorflow/python/client/session.py\u001b[0m in \u001b[0;36mrun\u001b[0;34m(self, fetches, feed_dict, options, run_metadata)\u001b[0m\n\u001b[1;32m    765\u001b[0m     \u001b[0;32mtry\u001b[0m\u001b[0;34m:\u001b[0m\u001b[0;34m\u001b[0m\u001b[0m\n\u001b[1;32m    766\u001b[0m       result = self._run(None, fetches, feed_dict, options_ptr,\n\u001b[0;32m--> 767\u001b[0;31m                          run_metadata_ptr)\n\u001b[0m\u001b[1;32m    768\u001b[0m       \u001b[0;32mif\u001b[0m \u001b[0mrun_metadata\u001b[0m\u001b[0;34m:\u001b[0m\u001b[0;34m\u001b[0m\u001b[0m\n\u001b[1;32m    769\u001b[0m         \u001b[0mproto_data\u001b[0m \u001b[0;34m=\u001b[0m \u001b[0mtf_session\u001b[0m\u001b[0;34m.\u001b[0m\u001b[0mTF_GetBuffer\u001b[0m\u001b[0;34m(\u001b[0m\u001b[0mrun_metadata_ptr\u001b[0m\u001b[0;34m)\u001b[0m\u001b[0;34m\u001b[0m\u001b[0m\n",
      "\u001b[0;32m/Users/hidehiro/.pyenv/versions/anaconda3-5.0.0/envs/dlnd-embeddings/lib/python3.5/site-packages/tensorflow/python/client/session.py\u001b[0m in \u001b[0;36m_run\u001b[0;34m(self, handle, fetches, feed_dict, options, run_metadata)\u001b[0m\n\u001b[1;32m    963\u001b[0m     \u001b[0;32mif\u001b[0m \u001b[0mfinal_fetches\u001b[0m \u001b[0;32mor\u001b[0m \u001b[0mfinal_targets\u001b[0m\u001b[0;34m:\u001b[0m\u001b[0;34m\u001b[0m\u001b[0m\n\u001b[1;32m    964\u001b[0m       results = self._do_run(handle, final_targets, final_fetches,\n\u001b[0;32m--> 965\u001b[0;31m                              feed_dict_string, options, run_metadata)\n\u001b[0m\u001b[1;32m    966\u001b[0m     \u001b[0;32melse\u001b[0m\u001b[0;34m:\u001b[0m\u001b[0;34m\u001b[0m\u001b[0m\n\u001b[1;32m    967\u001b[0m       \u001b[0mresults\u001b[0m \u001b[0;34m=\u001b[0m \u001b[0;34m[\u001b[0m\u001b[0;34m]\u001b[0m\u001b[0;34m\u001b[0m\u001b[0m\n",
      "\u001b[0;32m/Users/hidehiro/.pyenv/versions/anaconda3-5.0.0/envs/dlnd-embeddings/lib/python3.5/site-packages/tensorflow/python/client/session.py\u001b[0m in \u001b[0;36m_do_run\u001b[0;34m(self, handle, target_list, fetch_list, feed_dict, options, run_metadata)\u001b[0m\n\u001b[1;32m   1013\u001b[0m     \u001b[0;32mif\u001b[0m \u001b[0mhandle\u001b[0m \u001b[0;32mis\u001b[0m \u001b[0;32mNone\u001b[0m\u001b[0;34m:\u001b[0m\u001b[0;34m\u001b[0m\u001b[0m\n\u001b[1;32m   1014\u001b[0m       return self._do_call(_run_fn, self._session, feed_dict, fetch_list,\n\u001b[0;32m-> 1015\u001b[0;31m                            target_list, options, run_metadata)\n\u001b[0m\u001b[1;32m   1016\u001b[0m     \u001b[0;32melse\u001b[0m\u001b[0;34m:\u001b[0m\u001b[0;34m\u001b[0m\u001b[0m\n\u001b[1;32m   1017\u001b[0m       return self._do_call(_prun_fn, self._session, handle, feed_dict,\n",
      "\u001b[0;32m/Users/hidehiro/.pyenv/versions/anaconda3-5.0.0/envs/dlnd-embeddings/lib/python3.5/site-packages/tensorflow/python/client/session.py\u001b[0m in \u001b[0;36m_do_call\u001b[0;34m(self, fn, *args)\u001b[0m\n\u001b[1;32m   1020\u001b[0m   \u001b[0;32mdef\u001b[0m \u001b[0m_do_call\u001b[0m\u001b[0;34m(\u001b[0m\u001b[0mself\u001b[0m\u001b[0;34m,\u001b[0m \u001b[0mfn\u001b[0m\u001b[0;34m,\u001b[0m \u001b[0;34m*\u001b[0m\u001b[0margs\u001b[0m\u001b[0;34m)\u001b[0m\u001b[0;34m:\u001b[0m\u001b[0;34m\u001b[0m\u001b[0m\n\u001b[1;32m   1021\u001b[0m     \u001b[0;32mtry\u001b[0m\u001b[0;34m:\u001b[0m\u001b[0;34m\u001b[0m\u001b[0m\n\u001b[0;32m-> 1022\u001b[0;31m       \u001b[0;32mreturn\u001b[0m \u001b[0mfn\u001b[0m\u001b[0;34m(\u001b[0m\u001b[0;34m*\u001b[0m\u001b[0margs\u001b[0m\u001b[0;34m)\u001b[0m\u001b[0;34m\u001b[0m\u001b[0m\n\u001b[0m\u001b[1;32m   1023\u001b[0m     \u001b[0;32mexcept\u001b[0m \u001b[0merrors\u001b[0m\u001b[0;34m.\u001b[0m\u001b[0mOpError\u001b[0m \u001b[0;32mas\u001b[0m \u001b[0me\u001b[0m\u001b[0;34m:\u001b[0m\u001b[0;34m\u001b[0m\u001b[0m\n\u001b[1;32m   1024\u001b[0m       \u001b[0mmessage\u001b[0m \u001b[0;34m=\u001b[0m \u001b[0mcompat\u001b[0m\u001b[0;34m.\u001b[0m\u001b[0mas_text\u001b[0m\u001b[0;34m(\u001b[0m\u001b[0me\u001b[0m\u001b[0;34m.\u001b[0m\u001b[0mmessage\u001b[0m\u001b[0;34m)\u001b[0m\u001b[0;34m\u001b[0m\u001b[0m\n",
      "\u001b[0;32m/Users/hidehiro/.pyenv/versions/anaconda3-5.0.0/envs/dlnd-embeddings/lib/python3.5/site-packages/tensorflow/python/client/session.py\u001b[0m in \u001b[0;36m_run_fn\u001b[0;34m(session, feed_dict, fetch_list, target_list, options, run_metadata)\u001b[0m\n\u001b[1;32m   1002\u001b[0m         return tf_session.TF_Run(session, options,\n\u001b[1;32m   1003\u001b[0m                                  \u001b[0mfeed_dict\u001b[0m\u001b[0;34m,\u001b[0m \u001b[0mfetch_list\u001b[0m\u001b[0;34m,\u001b[0m \u001b[0mtarget_list\u001b[0m\u001b[0;34m,\u001b[0m\u001b[0;34m\u001b[0m\u001b[0m\n\u001b[0;32m-> 1004\u001b[0;31m                                  status, run_metadata)\n\u001b[0m\u001b[1;32m   1005\u001b[0m \u001b[0;34m\u001b[0m\u001b[0m\n\u001b[1;32m   1006\u001b[0m     \u001b[0;32mdef\u001b[0m \u001b[0m_prun_fn\u001b[0m\u001b[0;34m(\u001b[0m\u001b[0msession\u001b[0m\u001b[0;34m,\u001b[0m \u001b[0mhandle\u001b[0m\u001b[0;34m,\u001b[0m \u001b[0mfeed_dict\u001b[0m\u001b[0;34m,\u001b[0m \u001b[0mfetch_list\u001b[0m\u001b[0;34m)\u001b[0m\u001b[0;34m:\u001b[0m\u001b[0;34m\u001b[0m\u001b[0m\n",
      "\u001b[0;31mSystemError\u001b[0m: <built-in function TF_Run> returned a result with an error set"
     ]
    }
   ],
   "source": [
    "with train_graph.as_default():\n",
    "    saver = tf.train.Saver()\n",
    "\n",
    "with tf.Session(graph=train_graph) as sess:\n",
    "    saver.restore(sess, tf.train.latest_checkpoint('checkpoints'))\n",
    "    embed_mat = sess.run(embedding)"
   ]
  },
  {
   "cell_type": "markdown",
   "metadata": {},
   "source": [
    "## Visualizing the word vectors\n",
    "\n",
    "Below we'll use T-SNE to visualize how our high-dimensional word vectors cluster together. T-SNE is used to project these vectors into two dimensions while preserving local stucture. Check out [this post from Christopher Olah](http://colah.github.io/posts/2014-10-Visualizing-MNIST/) to learn more about T-SNE and other ways to visualize high-dimensional data."
   ]
  },
  {
   "cell_type": "code",
   "execution_count": null,
   "metadata": {
    "collapsed": true
   },
   "outputs": [],
   "source": [
    "%matplotlib inline\n",
    "%config InlineBackend.figure_format = 'retina'\n",
    "\n",
    "import matplotlib.pyplot as plt\n",
    "from sklearn.manifold import TSNE"
   ]
  },
  {
   "cell_type": "code",
   "execution_count": null,
   "metadata": {
    "collapsed": true
   },
   "outputs": [],
   "source": [
    "viz_words = 500\n",
    "tsne = TSNE()\n",
    "embed_tsne = tsne.fit_transform(embed_mat[:viz_words, :])"
   ]
  },
  {
   "cell_type": "code",
   "execution_count": null,
   "metadata": {
    "collapsed": true
   },
   "outputs": [],
   "source": [
    "fig, ax = plt.subplots(figsize=(14, 14))\n",
    "for idx in range(viz_words):\n",
    "    plt.scatter(*embed_tsne[idx, :], color='steelblue')\n",
    "    plt.annotate(int_to_vocab[idx], (embed_tsne[idx, 0], embed_tsne[idx, 1]), alpha=0.7)"
   ]
  }
 ],
 "metadata": {
  "kernelspec": {
   "display_name": "Python [conda env:dlnd-embeddings]",
   "language": "python",
   "name": "conda-env-dlnd-embeddings-py"
  },
  "language_info": {
   "codemirror_mode": {
    "name": "ipython",
    "version": 3
   },
   "file_extension": ".py",
   "mimetype": "text/x-python",
   "name": "python",
   "nbconvert_exporter": "python",
   "pygments_lexer": "ipython3",
   "version": "3.5.4"
  }
 },
 "nbformat": 4,
 "nbformat_minor": 2
}
